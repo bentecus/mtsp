{
 "cells": [
  {
   "cell_type": "code",
   "execution_count": 12,
   "metadata": {},
   "outputs": [
    {
     "name": "stdout",
     "output_type": "stream",
     "text": [
      "/home/bente/coding/mtsp/mtsp/..\n"
     ]
    }
   ],
   "source": [
    "import sys\n",
    "import os \n",
    "sys.path.append(\"/home/bente/coding/mtsp\")\n",
    "print(os.getcwd()+\"/..\")"
   ]
  },
  {
   "cell_type": "code",
   "execution_count": 4,
   "metadata": {},
   "outputs": [
    {
     "ename": "ModuleNotFoundError",
     "evalue": "No module named 'mtsp.mtsp'; 'mtsp' is not a package",
     "output_type": "error",
     "traceback": [
      "\u001b[0;31m---------------------------------------------------------------------------\u001b[0m",
      "\u001b[0;31mModuleNotFoundError\u001b[0m                       Traceback (most recent call last)",
      "Cell \u001b[0;32mIn[4], line 2\u001b[0m\n\u001b[1;32m      1\u001b[0m \u001b[39mfrom\u001b[39;00m \u001b[39mmtsp\u001b[39;00m \u001b[39mimport\u001b[39;00m MTSP\n\u001b[0;32m----> 2\u001b[0m \u001b[39mfrom\u001b[39;00m \u001b[39moptimization\u001b[39;00m \u001b[39mimport\u001b[39;00m genAlgo\n",
      "File \u001b[0;32m~/coding/mtsp/mtsp/optimization.py:6\u001b[0m\n\u001b[1;32m      2\u001b[0m \u001b[39mimport\u001b[39;00m \u001b[39mrandom\u001b[39;00m\n\u001b[1;32m      4\u001b[0m \u001b[39mfrom\u001b[39;00m \u001b[39mtyping\u001b[39;00m \u001b[39mimport\u001b[39;00m List\n\u001b[0;32m----> 6\u001b[0m \u001b[39mfrom\u001b[39;00m \u001b[39mmtsp\u001b[39;00m\u001b[39m.\u001b[39;00m\u001b[39mmtsp\u001b[39;00m \u001b[39mimport\u001b[39;00m MTSP\n\u001b[1;32m      8\u001b[0m \u001b[39mdef\u001b[39;00m \u001b[39mgenAlgo\u001b[39m(mtsp: MTSP, pop: \u001b[39mlist\u001b[39m \u001b[39m=\u001b[39m \u001b[39mNone\u001b[39;00m, numIter: \u001b[39mint\u001b[39m \u001b[39m=\u001b[39m \u001b[39m200\u001b[39m, pm: \u001b[39mfloat\u001b[39m \u001b[39m=\u001b[39m \u001b[39m0.05\u001b[39m,\n\u001b[1;32m      9\u001b[0m             numOffsprings: \u001b[39mint\u001b[39m \u001b[39m=\u001b[39m \u001b[39m2\u001b[39m) \u001b[39m-\u001b[39m\u001b[39m>\u001b[39m (\u001b[39mdict\u001b[39m, \u001b[39mfloat\u001b[39m):\n\u001b[1;32m     10\u001b[0m \u001b[39m    \u001b[39m\u001b[39m\"\"\"\u001b[39;00m\n\u001b[1;32m     11\u001b[0m \u001b[39m    One-objective NSGA-II genetic algorithm implementation inspired by\u001b[39;00m\n\u001b[1;32m     12\u001b[0m \u001b[39m    https://www.tandfonline.com/doi/full/10.1080/21642583.2019.1674220.\u001b[39;00m\n\u001b[0;32m   (...)\u001b[0m\n\u001b[1;32m     23\u001b[0m \u001b[39m        float: Resulting total distance.\u001b[39;00m\n\u001b[1;32m     24\u001b[0m \u001b[39m    \"\"\"\u001b[39;00m\n",
      "\u001b[0;31mModuleNotFoundError\u001b[0m: No module named 'mtsp.mtsp'; 'mtsp' is not a package"
     ]
    }
   ],
   "source": [
    "from mtsp import MTSP\n",
    "from optimization import genAlgo"
   ]
  },
  {
   "cell_type": "code",
   "execution_count": null,
   "metadata": {},
   "outputs": [],
   "source": []
  }
 ],
 "metadata": {
  "kernelspec": {
   "display_name": "mtsp",
   "language": "python",
   "name": "python3"
  },
  "language_info": {
   "codemirror_mode": {
    "name": "ipython",
    "version": 3
   },
   "file_extension": ".py",
   "mimetype": "text/x-python",
   "name": "python",
   "nbconvert_exporter": "python",
   "pygments_lexer": "ipython3",
   "version": "3.8.16"
  },
  "orig_nbformat": 4
 },
 "nbformat": 4,
 "nbformat_minor": 2
}
